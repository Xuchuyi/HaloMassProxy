{
 "cells": [
  {
   "cell_type": "code",
   "execution_count": 1,
   "id": "eec08bf4",
   "metadata": {},
   "outputs": [],
   "source": [
    "import os\n",
    "import copy\n",
    "import pickle\n",
    "import warnings\n",
    "import pandas as pd\n",
    "import numpy as np\n",
    "import numpy.ma as ma\n",
    "from scipy.interpolate import interp1d\n",
    "from scipy.optimize import curve_fit\n",
    "from scipy.stats import bootstrap\n",
    "\n",
    "import matplotlib.pyplot as plt\n",
    "from matplotlib import rcParams\n",
    "from matplotlib import colors\n",
    "import palettable\n",
    "import deepdish as dd\n",
    "\n",
    "\n",
    "from astropy.utils.console import ProgressBar\n",
    "from astropy.table import QTable\n",
    "plt.rc('text', usetex=True)\n",
    "rcParams.update({'axes.linewidth': 1.5})\n",
    "rcParams.update({'xtick.direction': 'in'})\n",
    "rcParams.update({'ytick.direction': 'in'})\n",
    "rcParams.update({'xtick.minor.visible': 'True'})\n",
    "rcParams.update({'ytick.minor.visible': 'True'})\n",
    "rcParams.update({'xtick.major.pad': '7.0'})\n",
    "rcParams.update({'xtick.major.size': '8.0'})\n",
    "rcParams.update({'xtick.major.width': '1.5'})\n",
    "rcParams.update({'xtick.minor.pad': '7.0'})\n",
    "rcParams.update({'xtick.minor.size': '4.0'})\n",
    "rcParams.update({'xtick.minor.width': '1.5'})\n",
    "rcParams.update({'ytick.major.pad': '7.0'})\n",
    "rcParams.update({'ytick.major.size': '8.0'})\n",
    "rcParams.update({'ytick.major.width': '1.5'})\n",
    "rcParams.update({'ytick.minor.pad': '7.0'})\n",
    "rcParams.update({'ytick.minor.size': '4.0'})\n",
    "rcParams.update({'ytick.minor.width': '1.5'})\n",
    "rcParams.update({'axes.titlepad': '10.0'})\n",
    "rcParams.update({'font.size': 28})"
   ]
  },
  {
   "cell_type": "code",
   "execution_count": 2,
   "id": "cac194a7",
   "metadata": {},
   "outputs": [],
   "source": [
    "data_dir=\"/Users/xushuo/work/Submit/Simulation/data/\"\n",
    "fig_dir=\"/Users/xushuo/work/Papers/Simulation/Figure/\""
   ]
  },
  {
   "cell_type": "code",
   "execution_count": 3,
   "id": "520a230f",
   "metadata": {},
   "outputs": [],
   "source": [
    "fname=\"galaxies_3sim_correct.hdf5\""
   ]
  },
  {
   "cell_type": "code",
   "execution_count": 4,
   "id": "0ec82b3a",
   "metadata": {},
   "outputs": [],
   "source": [
    "slope_aper_tab0=dd.io.load(data_dir+fname,'/exs/physical_fit/direct/slope_aperture')\n",
    "slope_out_tab0=dd.io.load(data_dir+fname,'/exs/physical_fit/direct/slope_outskirt')\n",
    "scatter_aper_tab0=dd.io.load(data_dir+fname,'/exs/physical_fit/direct/scatter_aperture')\n",
    "scatter_out_tab0=dd.io.load(data_dir+fname,'/exs/physical_fit/direct/scatter_outskirt')"
   ]
  },
  {
   "cell_type": "code",
   "execution_count": 5,
   "id": "79987b0c",
   "metadata": {},
   "outputs": [],
   "source": [
    "slope_aper_tab1=dd.io.load(data_dir+fname,'/exs/physical_fit/uncertainty/slope_aperture')\n",
    "slope_out_tab1=dd.io.load(data_dir+fname,'/exs/physical_fit/uncertainty/slope_outskirt')\n",
    "scatter_aper_tab1=dd.io.load(data_dir+fname,'/exs/physical_fit/uncertainty/scatter_aperture')\n",
    "scatter_out_tab1=dd.io.load(data_dir+fname,'/exs/physical_fit/uncertainty/scatter_outskirt')"
   ]
  },
  {
   "cell_type": "code",
   "execution_count": 6,
   "id": "c8b9a8d4",
   "metadata": {},
   "outputs": [],
   "source": [
    "slope_aper_tab2=dd.io.load(data_dir+fname,'/exs/reff_fit/direct/slope_aperture')\n",
    "slope_out_tab2=dd.io.load(data_dir+fname,'/exs/reff_fit/direct/slope_outskirt')\n",
    "scatter_aper_tab2=dd.io.load(data_dir+fname,'/exs/reff_fit/direct/scatter_aperture')\n",
    "scatter_out_tab2=dd.io.load(data_dir+fname,'/exs/reff_fit/direct/scatter_outskirt')"
   ]
  },
  {
   "cell_type": "code",
   "execution_count": 7,
   "id": "80839121",
   "metadata": {},
   "outputs": [],
   "source": [
    "slope_aper_tab3=dd.io.load(data_dir+fname,'/exs/reff_fit/uncertainty/slope_aperture')\n",
    "slope_out_tab3=dd.io.load(data_dir+fname,'/exs/reff_fit/uncertainty/slope_outskirt')\n",
    "scatter_aper_tab3=dd.io.load(data_dir+fname,'/exs/reff_fit/uncertainty/scatter_aperture')\n",
    "scatter_out_tab3=dd.io.load(data_dir+fname,'/exs/reff_fit/uncertainty/scatter_outskirt')"
   ]
  },
  {
   "cell_type": "code",
   "execution_count": 8,
   "id": "18d9b67e",
   "metadata": {},
   "outputs": [],
   "source": [
    "color_list=['steelblue','orangered','darkblue']"
   ]
  },
  {
   "cell_type": "code",
   "execution_count": 9,
   "id": "ae3b3c3d",
   "metadata": {},
   "outputs": [],
   "source": [
    "tab=dd.io.load(data_dir+'galaxies_tng300_072.hdf5','/physical_mass')"
   ]
  },
  {
   "cell_type": "code",
   "execution_count": 10,
   "id": "4833295e",
   "metadata": {},
   "outputs": [],
   "source": [
    "sma_list=np.asarray([30,50,75,100,150])\n",
    "mass_bin=np.arange(11.2,12.5,0.1)\n",
    "apersize=np.asarray([30,50,100,150])\n",
    "outer=np.asarray([30,50,75])"
   ]
  },
  {
   "cell_type": "code",
   "execution_count": 11,
   "id": "9989709e",
   "metadata": {},
   "outputs": [],
   "source": [
    "scatter_aper_tab=scatter_aper_tab0[scatter_aper_tab0['aperture_size']!=75]\n",
    "slope_aper_tab=slope_aper_tab0[slope_aper_tab0['aperture_size']!=75]\n",
    "slope_out_tab=slope_out_tab0\n",
    "scatter_out_tab=scatter_out_tab0\n",
    "scatter_aper_tab_mock=scatter_aper_tab1[scatter_aper_tab1['aperture_size']!=75]\n",
    "slope_aper_tab_mock=slope_aper_tab1[slope_aper_tab1['aperture_size']!=75]\n",
    "slope_out_tab_mock=slope_out_tab1\n",
    "scatter_out_tab_mock=scatter_out_tab1"
   ]
  },
  {
   "cell_type": "code",
   "execution_count": 12,
   "id": "b520cecb",
   "metadata": {},
   "outputs": [],
   "source": [
    "def mpeakfind(tab,bin_num=30):\n",
    "    numb,bins=np.histogram(tab,bins=bin_num)\n",
    "    max_value=max(numb)\n",
    "    max_index=list(numb).index(max_value)\n",
    "    mpeak=bins[max_index]\n",
    "    return mpeak"
   ]
  },
  {
   "cell_type": "code",
   "execution_count": 13,
   "id": "1af5939f",
   "metadata": {},
   "outputs": [],
   "source": [
    "def linear1d(x,a,b):\n",
    "    return a*x+b"
   ]
  },
  {
   "cell_type": "code",
   "execution_count": 14,
   "id": "c99abd23",
   "metadata": {},
   "outputs": [],
   "source": [
    "tab1=tab"
   ]
  },
  {
   "cell_type": "code",
   "execution_count": 15,
   "id": "c63133d9",
   "metadata": {},
   "outputs": [],
   "source": [
    "slope_ins_tab={}\n",
    "slope_ins_err={}\n",
    "for proj in ('xy','yz','xz'):\n",
    "    mask=(tab['catsh_primary']==True)&(tab['proj']==proj)&(tab['mass_stellar_ins']>1e10)&(tab['mass_stellar_exs']>10**10.5)\n",
    "    mpeak=mpeakfind(np.log10(tab['mass_stellar_ins'][mask]))\n",
    "    mask0=(tab['mass_stellar_ins']>10**mpeak)\n",
    "    ydata=np.log10(tab['mass_halo'][mask&mask0])\n",
    "    xdata=np.log10(tab['mass_stellar_ins'][mask&mask0])\n",
    "    popt,pcov=curve_fit(linear1d,xdata,ydata)\n",
    "    slope_ins_tab[proj]=popt[0]\n",
    "    slope_ins_err[proj]=np.sqrt(pcov[0,0])\n",
    "slope_exs_tab={}\n",
    "slope_exs_err={}\n",
    "for proj in ('xy','yz','xz'):\n",
    "    mask=(tab['catsh_primary']==True)&(tab['proj']==proj)&(tab['mass_stellar_ins']>1e10)&(tab['mass_stellar_exs']>10**10.5)\n",
    "    mpeak=mpeakfind(np.log10(tab['mass_stellar_exs'][mask]))\n",
    "    mask0=(tab['mass_stellar_exs']>10**mpeak)\n",
    "    ydata=np.log10(tab['mass_halo'][mask&mask0])\n",
    "    xdata=np.log10(tab['mass_stellar_exs'][mask&mask0])\n",
    "    popt,pcov=curve_fit(linear1d,xdata,ydata)\n",
    "    slope_exs_tab[proj]=popt[0]\n",
    "    slope_exs_err[proj]=np.sqrt(pcov[0,0])\n",
    "scatter_ins_tab={}\n",
    "scatter_ins_err1={}\n",
    "scatter_ins_err2={}\n",
    "for proj in ('xy','yz','xz'):\n",
    "    mask=(tab['catsh_primary']==True)&(tab['proj']==proj)&(tab['mass_stellar_ins']>1e10)&(tab['mass_stellar_exs']>10**10.5)\n",
    "    mpeak=mpeakfind(np.log10(tab['mass_stellar_ins'][mask]))\n",
    "    mask0=(tab['mass_stellar_ins']>10**mpeak)\n",
    "    std=np.std(np.log10(tab['mass_halo'][mask&mask0])-slope_ins_tab[proj]*np.log10(tab['mass_stellar_ins'][mask&mask0]),ddof=1)\n",
    "    data=np.log10(tab['mass_halo'][mask&mask0])-slope_ins_tab[proj]*np.log10(tab['mass_stellar_ins'][mask&mask0])\n",
    "    err=bootstrap((data,),np.std,n_resamples=8000,confidence_level=0.7)\n",
    "    scatter_ins_err1[proj]=err.confidence_interval[0]\n",
    "    scatter_ins_err2[proj]=err.confidence_interval[1]\n",
    "    scatter_ins_tab[proj]=std\n",
    "scatter_exs_tab={}\n",
    "scatter_exs_err1={}\n",
    "scatter_exs_err2={}\n",
    "for proj in ('xy','yz','xz'):\n",
    "    mask=(tab['catsh_primary']==True)&(tab['proj']==proj)&(tab['mass_stellar_ins']>1e10)&(tab['mass_stellar_exs']>10**10.5)\n",
    "    mpeak=mpeakfind(np.log10(tab['mass_stellar_exs'][mask]))\n",
    "    mask0=(tab['mass_stellar_exs']>10**mpeak)\n",
    "    std=np.std(np.log10(tab['mass_halo'][mask&mask0])-slope_exs_tab[proj]*np.log10(tab['mass_stellar_exs'][mask&mask0]),ddof=1)\n",
    "    data=np.log10(tab['mass_halo'][mask&mask0])-slope_exs_tab[proj]*np.log10(tab['mass_stellar_exs'][mask&mask0])\n",
    "    err=bootstrap((data,),np.std,n_resamples=8000,confidence_level=0.7)\n",
    "    scatter_exs_err1[proj]=err.confidence_interval[0]\n",
    "    scatter_exs_err2[proj]=err.confidence_interval[1]\n",
    "    scatter_exs_tab[proj]=std"
   ]
  },
  {
   "cell_type": "code",
   "execution_count": null,
   "id": "1ae3f518",
   "metadata": {},
   "outputs": [],
   "source": []
  },
  {
   "cell_type": "code",
   "execution_count": 16,
   "id": "987d4df6",
   "metadata": {},
   "outputs": [
    {
     "data": {
      "text/plain": [
       "0.19721499392068256"
      ]
     },
     "execution_count": 16,
     "metadata": {},
     "output_type": "execute_result"
    }
   ],
   "source": [
    "scatter_exs_tab['yz']"
   ]
  },
  {
   "cell_type": "code",
   "execution_count": 17,
   "id": "e3838028",
   "metadata": {},
   "outputs": [
    {
     "data": {
      "text/html": [
       "<div><i>QTable length=3</i>\n",
       "<table id=\"table4406407904\" class=\"table-striped table-bordered table-condensed\">\n",
       "<thead><tr><th>outskirt_inner_size</th><th>slope_out_exs_t300</th><th>slope_out_exs_t300_err</th><th>slope_out_exs_t100</th><th>slope_out_exs_t100_err</th><th>slope_out_exs_ori</th><th>slope_out_exs_ori_err</th></tr></thead>\n",
       "<thead><tr><th>int64</th><th>float64</th><th>float64</th><th>float64</th><th>float64</th><th>float64</th><th>float64</th></tr></thead>\n",
       "<tr><td>30</td><td>1.048998156091086</td><td>0.016538073413475067</td><td>0.9342463780257748</td><td>0.05191854344122577</td><td>0.8485616970455477</td><td>0.03555940834787205</td></tr>\n",
       "<tr><td>50</td><td>0.965970144408382</td><td>0.01413366167670596</td><td>0.8656996956407047</td><td>0.04879247538486399</td><td>0.8467043269336432</td><td>0.031893732517870164</td></tr>\n",
       "<tr><td>75</td><td>0.9350270238731788</td><td>0.014031436910522816</td><td>0.7993509516038366</td><td>0.035556247508197206</td><td>0.8177251211380115</td><td>0.03152627729780295</td></tr>\n",
       "</table></div>"
      ],
      "text/plain": [
       "<QTable length=3>\n",
       "outskirt_inner_size slope_out_exs_t300 ... slope_out_exs_ori_err\n",
       "       int64             float64       ...        float64       \n",
       "------------------- ------------------ ... ---------------------\n",
       "                 30  1.048998156091086 ...   0.03555940834787205\n",
       "                 50  0.965970144408382 ...  0.031893732517870164\n",
       "                 75 0.9350270238731788 ...   0.03152627729780295"
      ]
     },
     "execution_count": 17,
     "metadata": {},
     "output_type": "execute_result"
    }
   ],
   "source": [
    "slope_out_tab"
   ]
  },
  {
   "cell_type": "code",
   "execution_count": 18,
   "id": "1882e9ac",
   "metadata": {},
   "outputs": [
    {
     "data": {
      "image/png": "[encoded data removed]",
      "text/plain": [
       "<Figure size 720x576 with 4 Axes>"
      ]
     },
     "metadata": {
      "needs_background": "light"
     },
     "output_type": "display_data"
    }
   ],
   "source": [
    "fig=plt.figure(figsize=(10, 8))\n",
    "gs = fig.add_gridspec(2,2, hspace=0, wspace=0,width_ratios=(0.6,0.4))\n",
    "(ax21,ax22),(ax41,ax42) = gs.subplots(sharex='col', sharey='row')\n",
    "projlist=['t300','t100','ori']\n",
    "color_list=['darkred','deepskyblue','limegreen']\n",
    "fmtlist=['h','X','P']\n",
    "mksize_list=[13,14,14]\n",
    "\n",
    "scatter_aper_tab=scatter_aper_tab0[scatter_aper_tab0['aperture_size']!=75]\n",
    "slope_aper_tab=slope_aper_tab0[slope_aper_tab0['aperture_size']!=75]\n",
    "slope_out_tab=slope_out_tab0\n",
    "scatter_out_tab=scatter_out_tab0\n",
    "scatter_aper_tab_mock=scatter_aper_tab1[scatter_aper_tab1['aperture_size']!=75]\n",
    "slope_aper_tab_mock=slope_aper_tab1[slope_aper_tab1['aperture_size']!=75]\n",
    "slope_out_tab_mock=slope_out_tab1\n",
    "scatter_out_tab_mock=scatter_out_tab1\n",
    "apersize=np.asarray([30,60,90,120])\n",
    "outer=np.asarray([30,50,75])\n",
    "label_list=['TNG300','TNG100','Illustris']\n",
    "for ii in range(3):\n",
    "    mksize=mksize_list[ii]\n",
    "    label=label_list[ii]\n",
    "    proj=projlist[ii]\n",
    "    col=color_list[ii]\n",
    "    fmt=fmtlist[ii]\n",
    "    i0=np.asarray([ii,ii,ii])*1.7\n",
    "    ax21.errorbar(outer+i0,slope_out_tab['slope_out_exs_'+proj],yerr=slope_out_tab['slope_out_exs_'+proj+'_err'],color=col, alpha=0.9, fmt=fmt,\n",
    "            capsize=4, capthick=1, elinewidth=1, markersize=mksize)\n",
    "    err1=scatter_out_tab['scatter_out_exs_'+proj]-scatter_out_tab['scatter_out_exs_'+proj+'_err1']\n",
    "    err2=scatter_out_tab['scatter_out_exs_'+proj+'_err2']-scatter_out_tab['scatter_out_exs_'+proj]\n",
    "    ax41.errorbar(outer+i0,scatter_out_tab['scatter_out_exs_'+proj],yerr=(err1,err2),color=col, alpha=0.9, \n",
    "             capsize=4, capthick=1, elinewidth=1,fmt=fmt,markersize=mksize,label=r'\\rm '+label)\n",
    "\"\"\"\n",
    "for ii in range(3):\n",
    "    proj=projlist[ii]\n",
    "    col=color_list[ii]\n",
    "    fmt=fmtlist[ii]\n",
    "    i0=np.asarray([ii,ii,ii])*1.7\n",
    "    ax21.errorbar(outer+i0,slope_out_tab_mock['slope_out_exs_'+proj],mec=col,mfc='White', alpha=0.9, fmt=fmt,\n",
    "             markersize=10)\n",
    "    ax41.errorbar(outer+i0,scatter_out_tab_mock['scatter_out_exs_'+proj],mec=col,mfc='White', alpha=0.9, \n",
    "             fmt=fmt,markersize=10)\n",
    "\"\"\"\n",
    "\n",
    "\n",
    "scatter_aper_tab=scatter_aper_tab2[(scatter_aper_tab2['aperture_size']>2)&(scatter_aper_tab2['aperture_size']<9)&(scatter_aper_tab2['aperture_size']!=4)]\n",
    "slope_aper_tab=slope_aper_tab2[(slope_aper_tab2['aperture_size']>2)&(slope_aper_tab2['aperture_size']<9)&(slope_aper_tab2['aperture_size']!=4)]\n",
    "slope_out_tab=slope_out_tab2[slope_out_tab2['outskirt_inner_size']==4]\n",
    "scatter_out_tab=scatter_out_tab2[scatter_out_tab2['outskirt_inner_size']==4]\n",
    "scatter_aper_tab_mock=scatter_aper_tab3[(scatter_aper_tab3['aperture_size']>2)&(scatter_aper_tab3['aperture_size']<9)&(scatter_aper_tab3['aperture_size']!=4)]\n",
    "slope_aper_tab_mock=slope_aper_tab3[(slope_aper_tab3['aperture_size']>2)&(slope_aper_tab3['aperture_size']<9)&(slope_aper_tab3['aperture_size']!=4)]\n",
    "slope_out_tab_mock=slope_out_tab3[slope_out_tab3['outskirt_inner_size']==4]\n",
    "scatter_out_tab_mock=scatter_out_tab3[scatter_out_tab3['outskirt_inner_size']==4]\n",
    "apersize=np.asarray([3,6,9])\n",
    "outer=np.asarray([4])\n",
    "\n",
    "for ii in range(3):\n",
    "    mksize=mksize_list[ii]\n",
    "    label=label_list[ii]\n",
    "    proj=projlist[ii]\n",
    "    col=color_list[ii]\n",
    "    fmt=fmtlist[ii]\n",
    "    i0=np.asarray([ii])*0.18\n",
    "    ax22.errorbar(outer+i0,slope_out_tab['slope_out_exs_force_'+proj],yerr=slope_out_tab['slope_out_exs_force_'+proj+'_err'],color=col, alpha=0.9, fmt=fmt,\n",
    "            capsize=4, capthick=1, elinewidth=1, markersize=mksize)\n",
    "    err1=scatter_out_tab['scatter_out_exs_force_'+proj]-scatter_out_tab['scatter_out_exs_force_'+proj+'_err1']\n",
    "    err2=scatter_out_tab['scatter_out_exs_force_'+proj+'_err2']-scatter_out_tab['scatter_out_exs_force_'+proj]\n",
    "    ax42.errorbar(outer+i0,scatter_out_tab['scatter_out_exs_force_'+proj],yerr=(err1,err2),color=col, alpha=0.9, \n",
    "             capsize=4, capthick=1, elinewidth=1,fmt=fmt,markersize=mksize)\n",
    "\n",
    "\"\"\"\n",
    "for ii in range(3):\n",
    "    proj=projlist[ii]\n",
    "    col=color_list[ii]\n",
    "    fmt=fmtlist[ii]\n",
    "    i0=np.asarray([ii])*0.18\n",
    "    ax22.errorbar(outer+i0,slope_out_tab_mock['slope_out_exs_force_'+proj],mec=col,mfc='White', alpha=0.9, fmt=fmt,\n",
    "             markersize=10)\n",
    "    ax42.errorbar(outer+i0,scatter_out_tab_mock['scatter_out_exs_force_'+proj],mec=col,mfc='White', alpha=0.9, \n",
    "             fmt=fmt,markersize=10)\n",
    "\"\"\"\n",
    "\n",
    "#ax41.errorbar((10,20),(0.2,0.2),color='black',fmt='h',markersize=10,label=r'\\rm Original')\n",
    "#ax41.errorbar((10,20),(0.2,0.2),mec='black',mfc='White',fmt='h',markersize=10,label=r'\\rm + Uncertainty')\n",
    "\n",
    "x1=np.arange(20,180,20)\n",
    "x2=np.arange(20,100,10)\n",
    "y1=slope_exs_tab['xy']+slope_exs_err['xy']+0*x1\n",
    "y2=slope_exs_tab['xy']-slope_exs_err['xy']+0*x1\n",
    "y3=scatter_exs_err1['xy']+0*x1\n",
    "y4=scatter_exs_err2['xy']+0*x1\n",
    "c0='darkred'  \n",
    "ax21.fill_between(x2,y1,y2,alpha=0.1,color=c0) \n",
    "ax41.fill_between(x2,y3,y4,alpha=0.1,color=c0)   \n",
    "ax21.plot(x2,1+0*x2,alpha=0.5,color='black',lw=2,ls='--')\n",
    "\n",
    "x1=np.arange(2,12,1)\n",
    "x2=np.arange(2,7,0.5)\n",
    "y1=slope_exs_tab['xy']+slope_exs_err['xy']+0*x1\n",
    "y2=slope_exs_tab['xy']-slope_exs_err['xy']+0*x1\n",
    "y3=scatter_exs_err1['xy']+0*x1\n",
    "y4=scatter_exs_err2['xy']+0*x1\n",
    "c0='darkred'  \n",
    "ax22.fill_between(x2,y1,y2,alpha=0.1,color=c0)\n",
    "ax42.fill_between(x2,y3,y4,alpha=0.1,color=c0)  \n",
    "ax22.plot(x2,1+0*x2,alpha=0.5,color='black',lw=2,ls='--')\n",
    "\n",
    "\n",
    "\n",
    "ax21.set_xlim(25,85)\n",
    "\n",
    "ax22.set_xlim(3,5)\n",
    "\n",
    "ax21.text(0.4, 1.06, r'\\rm Ex-situ Outskirt Mass', transform=ax21.transAxes, size=35)\n",
    "\n",
    "ax41.text(0.6, -0.3, r'\\rm Outskirt Range', transform=ax41.transAxes, size=30)\n",
    "ax21.text(0.74, 0.9, r'\\rm Physical', transform=ax21.transAxes, size=25)\n",
    "ax22.text(0.85, 0.9, r'$R_{\\rm e}$', transform=ax22.transAxes, size=25)\n",
    "#ax21.text(0.45, 0.75, r'\\rm Outer size $=100{\\rm kpc}$', transform=ax21.transAxes, size=22)\n",
    "#ax22.text(0.3, 0.75, r'\\rm Outer size $=8R_{\\rm e}$', transform=ax22.transAxes, size=22)\n",
    "#ax11.set_title(r'\\rm Aperture',fontsize=30)\n",
    "#ax31.set_xlabel(r'\\rm Aperture Size/kpc',fontsize=25)\n",
    "#ax32.set_xlabel(r'\\rm Aperture Size/$R_{\\rm e}$',fontsize=25)\n",
    "ax21.set_ylabel(r'\\rm Slope',fontsize=30)\n",
    "ax41.set_ylabel(r'\\rm Scatter',fontsize=30)\n",
    "#ax21.set_title(r'\\rm Outskirt [$\\#$,100]kpc',fontsize=30)\n",
    "ax41.legend(fontsize=20,loc=1,labelspacing=0.4,borderaxespad=0.3)\n",
    "#ax31.legend(fontsize=25)\n",
    "#ax41.legend(fontsize=22,loc=1)\n",
    "#_= ax41.set_xlabel(r'\\rm Outskirt Inner Size/kpc',fontsize=25)\n",
    "#_= ax42.set_xlabel(r'\\rm Outskirt Inner Size/$R_{\\rm e}$',fontsize=25)\n",
    "ax41.text(0.02, 0.62, r'$M_{\\rm exs}$-{\\rm TNG300}', transform=ax41.transAxes, size=20)\n",
    "ax21.text(0.02, 0.8, r'$M_{\\rm exs}$-{\\rm TNG300}', transform=ax21.transAxes, size=20)\n",
    "\n",
    "\n",
    "ax41.set_xticks([33,54,75],[r'$[30,100]$',r'$[50,100]$',r'$[75,100]$'])\n",
    "ax42.set_xticks([4.1],[r'$[4,8]R_e$'])\n",
    "\n",
    "\n",
    "plt.savefig(fig_dir+\"Fig6B.png\",dpi=200)"
   ]
  },
  {
   "cell_type": "code",
   "execution_count": null,
   "id": "e4026338",
   "metadata": {},
   "outputs": [],
   "source": []
  }
 ],
 "metadata": {
  "kernelspec": {
   "display_name": "Python 3 (ipykernel)",
   "language": "python",
   "name": "python3"
  },
  "language_info": {
   "codemirror_mode": {
    "name": "ipython",
    "version": 3
   },
   "file_extension": ".py",
   "mimetype": "text/x-python",
   "name": "python",
   "nbconvert_exporter": "python",
   "pygments_lexer": "ipython3",
   "version": "3.8.13"
  }
 },
 "nbformat": 4,
 "nbformat_minor": 5
}
